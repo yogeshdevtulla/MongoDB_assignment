{
 "cells": [
  {
   "cell_type": "markdown",
   "metadata": {},
   "source": [
    "Q1. What is an API? Give an example, where an API is used in real life.\n"
   ]
  },
  {
   "cell_type": "markdown",
   "metadata": {},
   "source": [
    "API stand for applcation programing interface. it is used to commuicate between different application (hetrogeneous or homogeneous application).\n",
    "\n",
    "It uses protocol to perform operation and these protocol can be http, TCP/IP \n",
    "\n",
    "WEB API is subset of API.\n",
    "\n",
    "example of API is google api, twitter api\n",
    "\n",
    "Real life Example of API are google use api in search engine the text we typed in search bar is going to communicate with server  with help of api specifically web api."
   ]
  },
  {
   "cell_type": "markdown",
   "metadata": {},
   "source": [
    "Q2. Give advantages and disadvantages of using API."
   ]
  },
  {
   "cell_type": "markdown",
   "metadata": {},
   "source": [
    "Advantages:\n",
    "\n",
    "1. Interoperability:APIs facilitate interoperability between different software systems, allowing them to work together seamlessly.\n",
    "\n",
    "2. Efficiency:APIs help streamline development processes by providing pre-built functionalities. \n",
    "\n",
    "3. Scalability:APIs contribute to the scalability of applications. \n",
    "\n",
    "4. Innovation:APIs foster innovation by allowing developers to integrate new functionalities and services into their applications without having to develop everything from scratch. \n",
    "\n",
    "5. Data Security:APIs can enhance data security by controlling access and permissions. \n",
    "\n",
    "Disadvantages:\n",
    "\n",
    "1. Dependency on External Services:Applications relying heavily on external APIs may face challenges if the API provider changes or discontinues the service. \n",
    "2. Reliability:The reliability of an application can be affected by the reliability of the APIs it depends on. If the API experiences downtime or changes its functionality, it can impact the performance of the dependent application.\n",
    "\n",
    "3. Security Concerns: Using APIs introduces potential security risks. If not properly secured, APIs can be vulnerable to attacks such as injection, unauthorized access, or data breaches.\n",
    "\n",
    "4. Limited Customization:APIs may have limitations in terms of customization.\n",
    "\n",
    "5. Costs:Some APIs come with associated costs, especially when dealing with high usage or premium features. This can impact the overall cost of development and maintenance.\n"
   ]
  },
  {
   "cell_type": "markdown",
   "metadata": {},
   "source": [
    "Q3. What is a Web API? Differentiate between API and Web API."
   ]
  },
  {
   "cell_type": "markdown",
   "metadata": {},
   "source": [
    "Web API are subset of API's, It is used to perform communication between web application. WEB API uses HTTP protocol.\n",
    "\n",
    "API stand for applcation programing interface. it is used to commuicate between different application (hetrogeneous or homogeneous application).\n",
    "\n",
    "It uses protocol to perform operation and these protocol can be http, TCP/IP \n"
   ]
  },
  {
   "cell_type": "markdown",
   "metadata": {},
   "source": [
    "Q4. Explain REST and SOAP Architecture. Mention shortcomings of SOAP."
   ]
  },
  {
   "cell_type": "markdown",
   "metadata": {},
   "source": [
    "Rest used to do communication over a web. Here we uses http protocol to perform operation and Methods used here are Put, Get, Post, Delete. Rest architecture also known for simplicity, scalability and flexibility. It is easy to use and it is a stateless protocol.\n",
    "\n",
    "Soap architecture is XML based protocol, It uses XML for performing transaction XML uses WSDL (web server description language). Soap also support HTTP, SMTP, TCP/IP soap has predefined stateless protocols unlike rest. Soap is more secure than that of rest architecture."
   ]
  },
  {
   "cell_type": "markdown",
   "metadata": {},
   "source": [
    "Q5. Differentiate between REST and SOAP."
   ]
  },
  {
   "cell_type": "markdown",
   "metadata": {},
   "source": [
    "**communication:**\n",
    "\n",
    "REST is an architectural style that uses a stateless client-server communication model. It relies on standard HTTP methods (GET, POST, PUT, DELETE) for communication.\n",
    "\n",
    "SOAP is a protocol with a set of rules and standards that dictate how messages should be structured and transmitted. It can use various transport protocols, including HTTP, SMTP, and more.\n",
    "\n",
    "**Message Format**\n",
    "\n",
    "REST typically uses lightweight data interchange formats like JSON or XML for data representation. JSON is more commonly used due to its simplicity and readability.\n",
    "\n",
    "SOAP messages are usually XML-based. The XML format provides a standardized way of structuring data, but it can be more verbose compared to JSON.\n",
    "\n",
    "**Performance**\n",
    "\n",
    "REST is considered to be more lightweight and, in many cases, more efficient in terms of performance compared to SOAP.\n",
    "\n",
    "SOAP messages tend to be larger due to the XML format, and the additional standards can lead to higher overhead. This may result in slightly slower performance compared to REST in certain situations.\n",
    "\n"
   ]
  }
 ],
 "metadata": {
  "language_info": {
   "name": "python"
  }
 },
 "nbformat": 4,
 "nbformat_minor": 2
}
